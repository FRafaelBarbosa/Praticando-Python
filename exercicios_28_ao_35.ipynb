{
  "nbformat": 4,
  "nbformat_minor": 0,
  "metadata": {
    "colab": {
      "name": "exercicios-28-ao-35",
      "provenance": [],
      "collapsed_sections": [],
      "authorship_tag": "ABX9TyN92lGtvyrm1lxkPxi1/NQb",
      "include_colab_link": true
    },
    "kernelspec": {
      "name": "python3",
      "display_name": "Python 3"
    }
  },
  "cells": [
    {
      "cell_type": "markdown",
      "metadata": {
        "id": "view-in-github",
        "colab_type": "text"
      },
      "source": [
        "<a href=\"https://colab.research.google.com/github/FRafaelBarbosa/Praticando-Python/blob/master/exercicios_28_ao_35.ipynb\" target=\"_parent\"><img src=\"https://colab.research.google.com/assets/colab-badge.svg\" alt=\"Open In Colab\"/></a>"
      ]
    },
    {
      "cell_type": "code",
      "metadata": {
        "id": "HX6Acmz15ip9",
        "outputId": "e3322508-6373-4d1e-ed26-51f501fd724a",
        "colab": {
          "base_uri": "https://localhost:8080/",
          "height": 85
        }
      },
      "source": [
        "#Exercicio 28\n",
        "from random import randint\n",
        "\n",
        "computador = randint(0, 5)\n",
        "print('Adivinha o número que o computador \"Pensou\".')\n",
        "usuario = int(input('Digite um número: '))\n",
        "if usuario == computador:\n",
        "    print('Usuário: {} e Computador: {}'.format(usuario, computador))\n",
        "    print('PARABÉNS! Você venceu!')\n",
        "else:\n",
        "    print('Usuário: {} e Computador: {}'.format(usuario, computador))\n",
        "    print('Você perdeu!')"
      ],
      "execution_count": null,
      "outputs": [
        {
          "output_type": "stream",
          "text": [
            "Adivinha o número que o computador \"Pensou\".\n",
            "Digite um número: 2\n",
            "Usuário: 2 e Computador: 1\n",
            "Você perdeu!\n"
          ],
          "name": "stdout"
        }
      ]
    },
    {
      "cell_type": "code",
      "metadata": {
        "id": "WVUAbyugr-8W",
        "outputId": "37ef5ecb-59bc-4f7d-f5bb-33c6c34ae088",
        "colab": {
          "base_uri": "https://localhost:8080/",
          "height": 68
        }
      },
      "source": [
        "#Exercicio 29\n",
        "velocidade = int(input('Digite a velocidade do carro: '))\n",
        "\n",
        "if velocidade > 80:\n",
        "  print('Você foi multado! Você excedeu o limite permitido de 80KM/h')\n",
        "  multa = (velocidade - 80) * 7.00\n",
        "  print('A multa por cada KM acima do limite é de R${:.2f}'.format(multa))\n",
        "else:\n",
        "  print('Sua velocidade está OK!')\n",
        "  "
      ],
      "execution_count": null,
      "outputs": [
        {
          "output_type": "stream",
          "text": [
            "Digite a velocidade do carro: 120\n",
            "Você foi multado! Você excedeu o limite permitido de 80KM/h\n",
            "A multa por cada KM acima do limite é de R$280.00\n"
          ],
          "name": "stdout"
        }
      ]
    },
    {
      "cell_type": "code",
      "metadata": {
        "id": "OJtgMM1PuSC2",
        "outputId": "d2aeb0f1-ed02-452e-e3fb-55665ca7d580",
        "colab": {
          "base_uri": "https://localhost:8080/",
          "height": 51
        }
      },
      "source": [
        "#Exercicio 30\n",
        "numero = int(input('Digite um número: '))\n",
        "if numero % 2 == 0:\n",
        "  print('{} é PAR!'.format(numero))\n",
        "else:\n",
        "  print('{} é ÍMPAR!'.format(numero))"
      ],
      "execution_count": null,
      "outputs": [
        {
          "output_type": "stream",
          "text": [
            "Digite um número: 23\n",
            "23 é ÍMPAR!\n"
          ],
          "name": "stdout"
        }
      ]
    },
    {
      "cell_type": "code",
      "metadata": {
        "id": "DR39hE_SoS5-",
        "outputId": "a45deecc-d692-4cb7-e0ca-0c213a897e9b",
        "colab": {
          "base_uri": "https://localhost:8080/",
          "height": 51
        }
      },
      "source": [
        "#Exercicio 31\n",
        "viagem = int(input('Quantos KM tem sua viagem? '))\n",
        "if viagem > 200:\n",
        "  print('O preço da sua passagem ficou no valor de R${:.2f}'.format(viagem * 0.45))\n",
        "else:\n",
        "  print('O preço da sua passagem, ficou no valor de R${:.2f}'.format(viagem * 0.50))"
      ],
      "execution_count": null,
      "outputs": [
        {
          "output_type": "stream",
          "text": [
            "Quantos KM tem sua viagem? 100\n",
            "O preço da sua passagem, ficou no valor de R$50.00\n"
          ],
          "name": "stdout"
        }
      ]
    },
    {
      "cell_type": "code",
      "metadata": {
        "id": "7zy9UWowqrMQ",
        "outputId": "f00506e9-934c-4e26-c2b1-cdd9bf93d2ec",
        "colab": {
          "base_uri": "https://localhost:8080/",
          "height": 51
        }
      },
      "source": [
        "#Exercicio 32\n",
        "'''\n",
        "ano = int(input('Ano: '))\n",
        "if ano % 400 == 0:\n",
        "  print('É um ano Bissexto!')\n",
        "elif ano % 4 == 0 and ano % 100 != 0:\n",
        "  print('É um ano Bissexto!')\n",
        "else:\n",
        "  print('Não é Bissexto!')\n",
        "'''\n",
        "\n",
        "from datetime import date\n",
        "\n",
        "ano = int(input('Que ano quer analisar? Coloque 0 para analizar o ano atual: '))\n",
        "if ano == 0:\n",
        "  ano = date.today().year\n",
        "\n",
        "if ano % 4 == 0 and ano % 100 != 0 or ano % 400 == 0:\n",
        "  print('O ano {} é BISSEXTO'.format(ano))\n",
        "else:\n",
        "  print('O ano {} não é BISSEXTO'.format(ano))"
      ],
      "execution_count": null,
      "outputs": [
        {
          "output_type": "stream",
          "text": [
            "Que ano quer analisar? Coloque 0 para analizar o ano atual: 0\n",
            "O ano 2020 é BISSEXTO\n"
          ],
          "name": "stdout"
        }
      ]
    },
    {
      "cell_type": "code",
      "metadata": {
        "id": "km1ITqiKswbV",
        "outputId": "a3c6b1f9-d7b5-4432-a9da-3cb9f2cccb1a",
        "colab": {
          "base_uri": "https://localhost:8080/",
          "height": 102
        }
      },
      "source": [
        "#Exercicio 33\n",
        "n1 = int(input('Primeiro valor: '))\n",
        "n2 = int(input('Segundo valor: '))\n",
        "n3 = int(input('Terceiro valor: '))\n",
        "menor = n1\n",
        "if n2 < n1 and n2 < n3:\n",
        "  menor = n2\n",
        "if n3 < n1 and n3 < n2:\n",
        "  menor = n3\n",
        "\n",
        "maior = n1\n",
        "if n2 > n1 and n2 > n3:\n",
        "  maior = n2\n",
        "if n3 > n1 and n3 > n2:\n",
        "  maior = n3\n",
        "print('O menor valor é {}'.format(menor))\n",
        "print('O maior valor é {}'.format(maior))\n",
        "\n"
      ],
      "execution_count": null,
      "outputs": [
        {
          "output_type": "stream",
          "text": [
            "Primeiro valor: 8\n",
            "Segundo valor: 5\n",
            "Terceiro valor: 3\n",
            "O menor valor é 3\n",
            "O maior valor é 8\n"
          ],
          "name": "stdout"
        }
      ]
    },
    {
      "cell_type": "code",
      "metadata": {
        "id": "-Q0s83bXupB2",
        "outputId": "0675fc31-68ca-4563-b42b-931806446e01",
        "colab": {
          "base_uri": "https://localhost:8080/",
          "height": 51
        }
      },
      "source": [
        "#Exercicio 34\n",
        "salario = float(input('Digite seu salário: '))\n",
        "\n",
        "if salario > 1250.00:\n",
        "  print('O salário do funcionário com aumento de 10% é de {:.2f}'.format((salario * 0.1) + salario))\n",
        "else:\n",
        "  print('O salario do funcionário com aumento de 15% é de {:.2f}'.format((salario * 0.15) + salario))"
      ],
      "execution_count": null,
      "outputs": [
        {
          "output_type": "stream",
          "text": [
            "Digite seu salário: 9000\n",
            "O salário do funcionário com aumento de 10% é de 9900.00\n"
          ],
          "name": "stdout"
        }
      ]
    },
    {
      "cell_type": "code",
      "metadata": {
        "id": "0ujDWvvX1lK7",
        "outputId": "14885444-12b0-4ed9-d6fb-5c170ab2821d",
        "colab": {
          "base_uri": "https://localhost:8080/",
          "height": 85
        }
      },
      "source": [
        "#Exercicio 35\n",
        "r1 = float(input('Digite o comprimento da reta 1: '))\n",
        "r2 = float(input('Digite o comprimento da reta 2: '))\n",
        "r3 = float(input('Digite o comprimento da reta 3: '))\n",
        "\n",
        "if r1 < r2 + r3 and r2 < r1 + r3 and r3 < r1 + r2:\n",
        "  print('Pode formar um Triângulo!')\n",
        "else:\n",
        "  print('Não pode formar um Triângulo!')\n"
      ],
      "execution_count": null,
      "outputs": [
        {
          "output_type": "stream",
          "text": [
            "Digite o comprimento da reta 1: 2\n",
            "Digite o comprimento da reta 2: 3\n",
            "Digite o comprimento da reta 3: 4\n",
            "Pode formar um Triângulo!\n"
          ],
          "name": "stdout"
        }
      ]
    },
    {
      "cell_type": "markdown",
      "metadata": {
        "id": "4d5XpSEsO-AE"
      },
      "source": [
        "Cores no Python\n",
        "  ANSI - escape sequence\n",
        "  \\033[style: 0; text: 33; back: 44m"
      ]
    },
    {
      "cell_type": "code",
      "metadata": {
        "id": "FlLGNnNnPCOi",
        "outputId": "68f7d984-92d0-4882-d690-a5323e16483e",
        "colab": {
          "base_uri": "https://localhost:8080/",
          "height": 34
        }
      },
      "source": [
        "#aula11a\n",
        "\n",
        "a = 3\n",
        "b = 5\n",
        "\n",
        "print('\\033[mOs valores são \\033[36m{}\\033[ e \\033[31m{}'.format(a, b))"
      ],
      "execution_count": null,
      "outputs": [
        {
          "output_type": "stream",
          "text": [
            "\u001b[mOs valores são \u001b[36m3\u001b[ e \u001b[31m5\n"
          ],
          "name": "stdout"
        }
      ]
    },
    {
      "cell_type": "code",
      "metadata": {
        "id": "fdqQhAAOUnEZ",
        "outputId": "eac8796d-5f85-4851-eaea-c5998a094e6a",
        "colab": {
          "base_uri": "https://localhost:8080/",
          "height": 34
        }
      },
      "source": [
        "nome = 'Felipe'\n",
        "cores\n",
        "print('Olá! Muito prazer em te conhecer, {}{}{}!!!'.format('\\033[4;34m',nome,'\\033['))"
      ],
      "execution_count": null,
      "outputs": [
        {
          "output_type": "stream",
          "text": [
            "Olá! Muito prazer em te conhecer, \u001b[4;34mFelipe\u001b[!!!\n"
          ],
          "name": "stdout"
        }
      ]
    }
  ]
}